{
 "cells": [
  {
   "metadata": {},
   "cell_type": "markdown",
   "source": "# Bisection Method",
   "id": "91b6187f088d7286"
  },
  {
   "metadata": {},
   "cell_type": "markdown",
   "source": "### Importing necessary libraries",
   "id": "a0edd058c403556e"
  },
  {
   "metadata": {
    "ExecuteTime": {
     "end_time": "2024-05-05T16:51:12.150421Z",
     "start_time": "2024-05-05T16:51:12.148392Z"
    }
   },
   "cell_type": "code",
   "source": "import math",
   "id": "7d2c75b3cee39de1",
   "outputs": [],
   "execution_count": 2
  },
  {
   "metadata": {},
   "cell_type": "markdown",
   "source": "### Defining a function for which we eant to approximate the root.",
   "id": "e3e9246875053dbc"
  },
  {
   "metadata": {},
   "cell_type": "code",
   "outputs": [],
   "execution_count": null,
   "source": [
    "def f(x):\n",
    "    return math.e ** x - 3 * x"
   ],
   "id": "56f19cc075297c06"
  },
  {
   "metadata": {},
   "cell_type": "markdown",
   "source": "### Defining a function for Bisection Method to find the root in a given interval.",
   "id": "eb3940477b578b42"
  },
  {
   "cell_type": "code",
   "id": "initial_id",
   "metadata": {
    "collapsed": true,
    "ExecuteTime": {
     "end_time": "2024-05-05T16:52:03.670086Z",
     "start_time": "2024-05-05T16:52:03.667775Z"
    }
   },
   "source": [
    "def BM(a, b):\n",
    "    x = 0\n",
    "    step = math.ceil(math.log(10**4,2)) # Desired number of iterations\n",
    "    for i in range(step): #Any other stopping condition may be used\n",
    "        x = (b + a) / 2\n",
    "        y = f(x)\n",
    "        if y == 0:\n",
    "            return x\n",
    "        elif y > 0 > f(b) or y < 0 < f(b):\n",
    "            a = x\n",
    "        elif y < 0 < f(a) or y > 0 > f(a):\n",
    "            b = x\n",
    "    return x"
   ],
   "outputs": [],
   "execution_count": 4
  }
 ],
 "metadata": {
  "kernelspec": {
   "display_name": "Python 3",
   "language": "python",
   "name": "python3"
  },
  "language_info": {
   "codemirror_mode": {
    "name": "ipython",
    "version": 2
   },
   "file_extension": ".py",
   "mimetype": "text/x-python",
   "name": "python",
   "nbconvert_exporter": "python",
   "pygments_lexer": "ipython2",
   "version": "2.7.6"
  }
 },
 "nbformat": 4,
 "nbformat_minor": 5
}
