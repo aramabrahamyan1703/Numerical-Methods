{
 "cells": [
  {
   "cell_type": "markdown",
   "source": [
    "Here we want to calculate the approximate value of\n",
    "$$\\int_{0}^{1}\\frac{dx}{x^2+1}$$\n",
    "using the Monte Carlo Method. To that end, we will generate $n$ random uniform numbers from $[0, 1]$, several times, and calculate approximation of that integral."
   ],
   "metadata": {
    "collapsed": false
   },
   "id": "20b245620cce44e2"
  },
  {
   "cell_type": "markdown",
   "source": [
    "• First calculate the true value of the Integral"
   ],
   "metadata": {
    "collapsed": false
   },
   "id": "cfc8cc34fd6e430f"
  },
  {
   "cell_type": "markdown",
   "source": [
    "$$\\int_{0}^{1}\\frac{dx}{x^2+1} = arctan(x)|_{0}^{1} = arctan(1)-arctan(0)= arctan(1) = \\frac{\\pi}{4}$$"
   ],
   "metadata": {
    "collapsed": false
   },
   "id": "ae96d5ba57c36eda"
  },
  {
   "cell_type": "code",
   "outputs": [],
   "source": [
    "f = lambda x: 1/(x ** 2 + 1)"
   ],
   "metadata": {
    "collapsed": false,
    "ExecuteTime": {
     "end_time": "2024-03-21T15:37:37.523718Z",
     "start_time": "2024-03-21T15:37:37.521768Z"
    }
   },
   "id": "1420b3125fb1d8ee",
   "execution_count": 53
  },
  {
   "cell_type": "markdown",
   "source": [
    "• Take the number of calculations$ m = 1,2,...,100$;"
   ],
   "metadata": {
    "collapsed": false
   },
   "id": "2349f656fea4dddd"
  },
  {
   "cell_type": "code",
   "outputs": [],
   "source": [
    "m = 100"
   ],
   "metadata": {
    "collapsed": false,
    "ExecuteTime": {
     "end_time": "2024-03-21T15:37:37.526478Z",
     "start_time": "2024-03-21T15:37:37.524752Z"
    }
   },
   "id": "b6a718a2d6b84257",
   "execution_count": 54
  },
  {
   "cell_type": "markdown",
   "source": [
    "• for each $m$, generate $n = 1000$ uniform random numbers from $[0, 1]$, and calculate the\n",
    "value of the Integral using the $MC$ method and the generated random numbers. Store\n",
    "that value in the vector results;"
   ],
   "metadata": {
    "collapsed": false
   },
   "id": "acbe04112609fa23"
  },
  {
   "cell_type": "code",
   "outputs": [],
   "source": [
    "import numpy as np\n",
    "n = 1000\n",
    "points = np.ones((m,n))\n",
    "for i in range(m):\n",
    "     points[i] = np.random.uniform(0, 1, n)\n",
    "\n",
    "results = f(points).sum(axis=1) / n"
   ],
   "metadata": {
    "collapsed": false,
    "ExecuteTime": {
     "end_time": "2024-03-21T15:37:37.530629Z",
     "start_time": "2024-03-21T15:37:37.527263Z"
    }
   },
   "id": "a0fca19deccaab6f",
   "execution_count": 55
  },
  {
   "cell_type": "markdown",
   "source": [
    "• plot the Histogram of results, by marking also the true value of the Integral on the\n",
    "graph;"
   ],
   "metadata": {
    "collapsed": false
   },
   "id": "ae9b6d11a343289e"
  },
  {
   "cell_type": "code",
   "outputs": [
    {
     "data": {
      "text/plain": "<matplotlib.legend.Legend at 0x1511100d0>"
     },
     "execution_count": 56,
     "metadata": {},
     "output_type": "execute_result"
    },
    {
     "data": {
      "text/plain": "<Figure size 640x480 with 1 Axes>",
      "image/png": "[encoded data removed]"
     },
     "metadata": {},
     "output_type": "display_data"
    }
   ],
   "source": [
    "import matplotlib.pyplot as plt\n",
    "\n",
    "plt.hist(results, bins = np.linspace(results.min(), results.max(), 20))\n",
    "plt.vlines(np.pi/4, 0, 17, color='red', label = \"$True\\ Value$\")\n",
    "plt.legend()"
   ],
   "metadata": {
    "collapsed": false,
    "ExecuteTime": {
     "end_time": "2024-03-21T15:37:37.601610Z",
     "start_time": "2024-03-21T15:37:37.532083Z"
    }
   },
   "id": "44566a67fc871902",
   "execution_count": 56
  },
  {
   "cell_type": "markdown",
   "source": [
    "• for each result from results, calculate the Absolute Error. Then plot the Histogram of\n",
    "that Absolute Errors;"
   ],
   "metadata": {
    "collapsed": false
   },
   "id": "e258abd34aba3f14"
  },
  {
   "cell_type": "code",
   "outputs": [
    {
     "data": {
      "text/plain": "(array([14., 15., 10.,  8., 11.,  7.,  8.,  7.,  6.,  7.,  1.,  4.,  1.,\n         0.,  0.,  1.]),\n array([4.43370509e-05, 9.47075444e-04, 1.84981384e-03, 2.75255223e-03,\n        3.65529062e-03, 4.55802902e-03, 5.46076741e-03, 6.36350580e-03,\n        7.26624419e-03, 8.16898259e-03, 9.07172098e-03, 9.97445937e-03,\n        1.08771978e-02, 1.17799362e-02, 1.26826746e-02, 1.35854129e-02,\n        1.44881513e-02]),\n <BarContainer object of 16 artists>)"
     },
     "execution_count": 57,
     "metadata": {},
     "output_type": "execute_result"
    },
    {
     "data": {
      "text/plain": "<Figure size 640x480 with 1 Axes>",
      "image/png": "[encoded data removed]"
     },
     "metadata": {},
     "output_type": "display_data"
    }
   ],
   "source": [
    "err = abs(results - np.pi/4)\n",
    "plt.hist(err, bins = np.linspace(err.min(), err.max(), 17))"
   ],
   "metadata": {
    "collapsed": false,
    "ExecuteTime": {
     "end_time": "2024-03-21T15:37:37.660177Z",
     "start_time": "2024-03-21T15:37:37.602327Z"
    }
   },
   "id": "c8c5fe73d3144ff2",
   "execution_count": 57
  },
  {
   "cell_type": "markdown",
   "source": [
    "• Calculate the Sample Mean of results, and calculate the Absolute Error of that Mean\n",
    "and the true value of the Integral;"
   ],
   "metadata": {
    "collapsed": false
   },
   "id": "d5d39f81380a5606"
  },
  {
   "cell_type": "code",
   "outputs": [
    {
     "data": {
      "text/plain": "'The Absolute Error of Sample Mean of results and the True Value is 0.0002858807518252293'"
     },
     "metadata": {},
     "output_type": "display_data"
    }
   ],
   "source": [
    "mean = results.sum()/m\n",
    "display(f'The Absolute Error of Sample Mean of results and the True Value is {abs(mean - np.pi/4)}')"
   ],
   "metadata": {
    "collapsed": false,
    "ExecuteTime": {
     "end_time": "2024-03-21T15:38:14.869306Z",
     "start_time": "2024-03-21T15:38:14.864179Z"
    }
   },
   "id": "29beb191df6da158",
   "execution_count": 59
  },
  {
   "cell_type": "markdown",
   "source": [
    "• Calculate the Sample Standard Deviation (SD) of the results. You can use the Python’s\n",
    "native function to calculate the SD, or by using the formula below."
   ],
   "metadata": {
    "collapsed": false
   },
   "id": "f36b66385ce2c279"
  },
  {
   "cell_type": "code",
   "execution_count": 60,
   "id": "initial_id",
   "metadata": {
    "collapsed": true,
    "ExecuteTime": {
     "end_time": "2024-03-21T15:39:05.846141Z",
     "start_time": "2024-03-21T15:39:05.843260Z"
    }
   },
   "outputs": [
    {
     "data": {
      "text/plain": "'The Sample Standard Deviation of Results is 0.005367414645040851'"
     },
     "metadata": {},
     "output_type": "display_data"
    }
   ],
   "source": [
    "display(f'The Sample Standard Deviation of Results is {np.std(results)}')"
   ]
  }
 ],
 "metadata": {
  "kernelspec": {
   "display_name": "Python 3",
   "language": "python",
   "name": "python3"
  },
  "language_info": {
   "codemirror_mode": {
    "name": "ipython",
    "version": 2
   },
   "file_extension": ".py",
   "mimetype": "text/x-python",
   "name": "python",
   "nbconvert_exporter": "python",
   "pygments_lexer": "ipython2",
   "version": "2.7.6"
  }
 },
 "nbformat": 4,
 "nbformat_minor": 5
}
