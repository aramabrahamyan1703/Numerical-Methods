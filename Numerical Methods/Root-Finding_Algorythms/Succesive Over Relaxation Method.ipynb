{
 "cells": [
  {
   "metadata": {},
   "cell_type": "markdown",
   "source": "# Successive Over Realxation Method (SOR)",
   "id": "8fb2a955a473df18"
  },
  {
   "metadata": {},
   "cell_type": "markdown",
   "source": "### We consider the following SLE:",
   "id": "e12aef4d6a5829b4"
  },
  {
   "metadata": {},
   "cell_type": "markdown",
   "source": [
    "$$\\left\\{\\begin{split}\n",
    "7x−2y+z+3t=0 \\\\\n",
    "3x + 12y + t = 3\\\\\n",
    "−2x+4y+9z−t=1\\\\\n",
    "2 x + y + 6 t = − 3\\\\ \n",
    "\\end{split}\\right.$$\n",
    "Write a code to calculate the solution to this SLE using the SOR algorithm. For that, consider the following $2$ values for $ω: 0.7$ and $1.4$."
   ],
   "id": "9de4c6bb3ea03cf8"
  },
  {
   "cell_type": "code",
   "execution_count": null,
   "id": "initial_id",
   "metadata": {
    "collapsed": true
   },
   "outputs": [],
   "source": [
    "w_1 = 0.7 \n",
    "counter1 = 1\n",
    "x_0, y_0, z_0, t_0 = 1, 1, 1, 1 # initial approximation\n",
    "x_1, y_1, z_1, t_1 = 0, 0, 0, 0 # secondary approximation\n",
    "x_1, y_1, z_1, t_1 = f(x_1, y_1, z_1, t_1)\n",
    "\n",
    "while np.sqrt((x_0-x_1)**2 + (y_0-y_1)**2 + (z_0-z_1)**2 + (t_0-t_1)**2) >= 10**-5: # some stopping condition\n",
    "    x_0, y_0, z_0, t_0 = x_1, y_1, z_1, t_1\n",
    "    x_1, y_1, z_1, t_1 = (1-w_1)*np.array([x_0, y_0, z_0, t_0]) + w_1*f(x_0, y_0, z_0, t_0) # SOR algorythm\n",
    "    counter1 += 1\n",
    "sol_vect1 = sp.Matrix([x_1, y_1, z_1, t_1])\n",
    "print(f'Number of iterations:{counter1}')\n",
    "sol_vect1"
   ]
  },
  {
   "metadata": {},
   "cell_type": "markdown",
   "source": "With $\\omega = 1.4$",
   "id": "53fef71aba5eaab2"
  },
  {
   "metadata": {},
   "cell_type": "code",
   "outputs": [],
   "execution_count": null,
   "source": [
    "w_2 = 1.4\n",
    "counter2 = 1\n",
    "x_0, y_0, z_0, t_0 = 1, 1, 1, 1\n",
    "x_1, y_1, z_1, t_1 = 0, 0, 0, 0\n",
    "x_1, y_1, z_1, t_1 = f(x_1, y_1, z_1, t_1)\n",
    "\n",
    "while np.sqrt((x_0-x_1)**2 + (y_0-y_1)**2 + (z_0-z_1)**2 + (t_0-t_1)**2) >= 10**-5:\n",
    "    x_0, y_0, z_0, t_0 = x_1, y_1, z_1, t_1\n",
    "    x_1, y_1, z_1, t_1 = (1-w_2)*np.array([x_0, y_0, z_0, t_0]) + w_2*f(x_0, y_0, z_0, t_0)\n",
    "    counter2 += 1\n",
    "sol_vect2 = sp.Matrix([x_1, y_1, z_1, t_1])\n",
    "print(f'Number of iterations:{counter2}')\n",
    "sol_vect2"
   ],
   "id": "a11f38c5cf884ec5"
  }
 ],
 "metadata": {
  "kernelspec": {
   "display_name": "Python 3",
   "language": "python",
   "name": "python3"
  },
  "language_info": {
   "codemirror_mode": {
    "name": "ipython",
    "version": 2
   },
   "file_extension": ".py",
   "mimetype": "text/x-python",
   "name": "python",
   "nbconvert_exporter": "python",
   "pygments_lexer": "ipython2",
   "version": "2.7.6"
  }
 },
 "nbformat": 4,
 "nbformat_minor": 5
}
