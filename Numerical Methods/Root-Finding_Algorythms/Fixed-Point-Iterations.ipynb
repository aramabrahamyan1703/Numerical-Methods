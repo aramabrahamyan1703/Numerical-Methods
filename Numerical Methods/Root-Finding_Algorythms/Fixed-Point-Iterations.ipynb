{
 "cells": [
  {
   "metadata": {},
   "cell_type": "markdown",
   "source": "# FPI(Fixed Point Iterations)",
   "id": "2fda196ddbd4aacf"
  },
  {
   "metadata": {},
   "cell_type": "markdown",
   "source": "### Importing Necessary Libraries.",
   "id": "9701e2b63e229080"
  },
  {
   "cell_type": "code",
   "execution_count": null,
   "id": "7b8629bc350c3eb",
   "metadata": {
    "collapsed": true
   },
   "outputs": [],
   "source": "import math"
  },
  {
   "metadata": {},
   "cell_type": "markdown",
   "source": "### Defining the functions $f(x)$ and $g(x)$.",
   "id": "5f6628cfab18aa15"
  },
  {
   "metadata": {},
   "cell_type": "code",
   "outputs": [],
   "execution_count": null,
   "source": [
    "f = lambda x: 2 + math.sin(x) - x\n",
    "g = lambda x: 2 + math.sin(x)"
   ],
   "id": "e28f9930bd8b02fa"
  },
  {
   "metadata": {},
   "cell_type": "markdown",
   "source": "### Finding the root using FPI.",
   "id": "d5d4e6d47bd45087"
  },
  {
   "metadata": {},
   "cell_type": "code",
   "outputs": [],
   "execution_count": null,
   "source": [
    "def FPI(x0):#x0 is initial approximation\n",
    "    xn = g(x0) #every next approximation in value of function g in the previous approximated point\n",
    "    while abs(xn-x0) > 0.001: # stopping when some stopping condition is met\n",
    "        x0 = xn\n",
    "        xn = g(x0)\n",
    "    return g(x0)"
   ],
   "id": "initial_id"
  }
 ],
 "metadata": {
  "kernelspec": {
   "display_name": "Python 3",
   "language": "python",
   "name": "python3"
  },
  "language_info": {
   "codemirror_mode": {
    "name": "ipython",
    "version": 2
   },
   "file_extension": ".py",
   "mimetype": "text/x-python",
   "name": "python",
   "nbconvert_exporter": "python",
   "pygments_lexer": "ipython2",
   "version": "2.7.6"
  }
 },
 "nbformat": 4,
 "nbformat_minor": 5
}
