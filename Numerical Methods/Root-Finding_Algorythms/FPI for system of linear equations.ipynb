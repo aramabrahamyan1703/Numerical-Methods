{
 "cells": [
  {
   "cell_type": "markdown",
   "source": [
    "### We consider the following Iterative scheme:"
   ],
   "metadata": {
    "collapsed": false
   },
   "id": "974f08cd41b8211c"
  },
  {
   "cell_type": "markdown",
   "source": [
    "$$\\left\\{\\begin{split}\n",
    "x^{( k + 1 )} = x^{( k )} − \\frac{1}{6} y^{( k )} + 2 \\\\\n",
    "y^{( k + 1 )} = x^{( k )} + \\frac{1}{6} y^{( k )} - 2 \\\\ \n",
    "\\end{split}\\right.$$\n",
    "Implement the FPI algorithm for this SLE, and calculate the solution to this\n",
    "SLE using some Stopping Condition. Compare the obtained solution with the exact solution to this SLE."
   ],
   "metadata": {
    "collapsed": false
   },
   "id": "ab3ea2cf53d4fa83"
  },
  {
   "cell_type": "code",
   "execution_count": 1,
   "id": "initial_id",
   "metadata": {
    "collapsed": true,
    "ExecuteTime": {
     "end_time": "2024-04-19T21:06:35.360484Z",
     "start_time": "2024-04-19T21:06:35.356758Z"
    }
   },
   "outputs": [
    {
     "name": "stdout",
     "output_type": "stream",
     "text": [
      "13.0 12.0\n"
     ]
    }
   ],
   "source": [
    "def f(x,y):\n",
    "    x_n = x-1/6*y+2\n",
    "    y_n = x+1/6*y-3\n",
    "    return x_n, y_n\n",
    "x_0 = 0 # initial approximation for x\n",
    "y_0 = 0 # initial approximation for y\n",
    "for i in range(100): # some stopping condition\n",
    "    x_0, y_0 = f(x_0, y_0)\n",
    "print(x_0, y_0)"
   ]
  },
  {
   "cell_type": "code",
   "outputs": [],
   "source": [],
   "metadata": {
    "collapsed": false
   },
   "id": "d4ab668590c484a0",
   "execution_count": null
  }
 ],
 "metadata": {
  "kernelspec": {
   "display_name": "Python 3",
   "language": "python",
   "name": "python3"
  },
  "language_info": {
   "codemirror_mode": {
    "name": "ipython",
    "version": 2
   },
   "file_extension": ".py",
   "mimetype": "text/x-python",
   "name": "python",
   "nbconvert_exporter": "python",
   "pygments_lexer": "ipython2",
   "version": "2.7.6"
  }
 },
 "nbformat": 4,
 "nbformat_minor": 5
}
