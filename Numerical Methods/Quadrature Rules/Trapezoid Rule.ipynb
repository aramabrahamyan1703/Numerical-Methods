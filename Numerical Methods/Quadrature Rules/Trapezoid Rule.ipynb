{
 "cells": [
  {
   "metadata": {},
   "cell_type": "markdown",
   "source": "# Trapezoid Rule",
   "id": "ae269b6151f2c7b2"
  },
  {
   "cell_type": "code",
   "execution_count": null,
   "id": "initial_id",
   "metadata": {
    "collapsed": true
   },
   "outputs": [],
   "source": [
    "def TrapezoidRule(f, a, b, n):\n",
    "    area = 0\n",
    "    h = (b-a)/n # length of sub-intervals\n",
    "    for i in range(n): # any stopping condition here\n",
    "        area += (f(a+i*h) + f(a+(i+1)*h))/2 # trapezoid rule formula\n",
    "    return area * h"
   ]
  }
 ],
 "metadata": {
  "kernelspec": {
   "display_name": "Python 3",
   "language": "python",
   "name": "python3"
  },
  "language_info": {
   "codemirror_mode": {
    "name": "ipython",
    "version": 2
   },
   "file_extension": ".py",
   "mimetype": "text/x-python",
   "name": "python",
   "nbconvert_exporter": "python",
   "pygments_lexer": "ipython2",
   "version": "2.7.6"
  }
 },
 "nbformat": 4,
 "nbformat_minor": 5
}
