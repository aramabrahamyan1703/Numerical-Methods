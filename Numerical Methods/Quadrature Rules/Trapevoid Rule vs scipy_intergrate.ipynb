{
 "cells": [
  {
   "cell_type": "markdown",
   "source": [
    "# Homework 6"
   ],
   "metadata": {
    "collapsed": false
   },
   "id": "bf2c33b35de1437c"
  },
  {
   "cell_type": "markdown",
   "source": [
    "## Problem 5"
   ],
   "metadata": {
    "collapsed": false
   },
   "id": "a16f8a4fd645cd1d"
  },
  {
   "cell_type": "markdown",
   "source": [
    "Calculate the value of the integral\n",
    "$$\\int_{-1}^{1} \\frac{e^{x^2}}{4 + \\cos(x^5 + 1)} dx$$\n",
    "•using the Composite Trapezoids Rule function $TrapezoidRule(f, a, b, n)$ created in the above example\n",
    "• using the quad function from $scipy.integrate$\n",
    "• calculate the absolute difference between these results."
   ],
   "metadata": {
    "collapsed": false
   },
   "id": "72ffba58f8d923ba"
  },
  {
   "cell_type": "code",
   "outputs": [],
   "source": [
    "import numpy as np\n",
    "from scipy.integrate import quad"
   ],
   "metadata": {
    "collapsed": false,
    "ExecuteTime": {
     "end_time": "2024-03-21T14:50:20.527129Z",
     "start_time": "2024-03-21T14:50:19.320708Z"
    }
   },
   "id": "fdaabc90afe4b5bb",
   "execution_count": 1
  },
  {
   "cell_type": "code",
   "execution_count": 2,
   "id": "initial_id",
   "metadata": {
    "collapsed": true,
    "ExecuteTime": {
     "end_time": "2024-03-21T14:50:23.123302Z",
     "start_time": "2024-03-21T14:50:23.121001Z"
    }
   },
   "outputs": [],
   "source": [
    "def TrapezoidRule(f, a, b, n):\n",
    "    area = 0\n",
    "    h = (b - a) / n\n",
    "    for i in range(n):\n",
    "        area += (f(a + i * h) + f(a + (i + 1) * h)) / 2\n",
    "    return area * h"
   ]
  },
  {
   "cell_type": "code",
   "outputs": [],
   "source": [
    "f = lambda x: (np.e ** (x ** 2)) / (4 + np.cos(x**5 + 1))"
   ],
   "metadata": {
    "collapsed": false,
    "ExecuteTime": {
     "end_time": "2024-03-21T14:52:35.833239Z",
     "start_time": "2024-03-21T14:52:35.831488Z"
    }
   },
   "id": "b7e65cb3bfc4a9eb",
   "execution_count": 6
  },
  {
   "cell_type": "code",
   "outputs": [
    {
     "data": {
      "text/plain": "'The value by TR: 0.6528065139790719'"
     },
     "metadata": {},
     "output_type": "display_data"
    }
   ],
   "source": [
    "TR_val = TrapezoidRule(f, -1, 1, 10000)\n",
    "display(f'The value by TR: {TR_val}')"
   ],
   "metadata": {
    "collapsed": false,
    "ExecuteTime": {
     "end_time": "2024-03-21T14:53:18.514795Z",
     "start_time": "2024-03-21T14:53:18.501219Z"
    }
   },
   "id": "a452f15a340e2dde",
   "execution_count": 8
  },
  {
   "cell_type": "code",
   "outputs": [
    {
     "data": {
      "text/plain": "'The value by quad from scipy.integrate: 0.6528065020907949'"
     },
     "metadata": {},
     "output_type": "display_data"
    }
   ],
   "source": [
    "quad_val = quad(f, -1, 1)[0]\n",
    "display(f'The value by quad from scipy.integrate: {quad_val}')"
   ],
   "metadata": {
    "collapsed": false,
    "ExecuteTime": {
     "end_time": "2024-03-21T14:53:50.883600Z",
     "start_time": "2024-03-21T14:53:50.880400Z"
    }
   },
   "id": "21cf70f1d03ecad3",
   "execution_count": 9
  },
  {
   "cell_type": "code",
   "outputs": [
    {
     "data": {
      "text/plain": "'The absolute error is: 1.188827691844807e-08'"
     },
     "metadata": {},
     "output_type": "display_data"
    }
   ],
   "source": [
    "display(f'The absolute error is: {abs(TR_val - quad_val)}')"
   ],
   "metadata": {
    "collapsed": false,
    "ExecuteTime": {
     "end_time": "2024-03-21T14:54:09.958168Z",
     "start_time": "2024-03-21T14:54:09.955025Z"
    }
   },
   "id": "96a16e50336c91f6",
   "execution_count": 10
  }
 ],
 "metadata": {
  "kernelspec": {
   "display_name": "Python 3",
   "language": "python",
   "name": "python3"
  },
  "language_info": {
   "codemirror_mode": {
    "name": "ipython",
    "version": 2
   },
   "file_extension": ".py",
   "mimetype": "text/x-python",
   "name": "python",
   "nbconvert_exporter": "python",
   "pygments_lexer": "ipython2",
   "version": "2.7.6"
  }
 },
 "nbformat": 4,
 "nbformat_minor": 5
}
