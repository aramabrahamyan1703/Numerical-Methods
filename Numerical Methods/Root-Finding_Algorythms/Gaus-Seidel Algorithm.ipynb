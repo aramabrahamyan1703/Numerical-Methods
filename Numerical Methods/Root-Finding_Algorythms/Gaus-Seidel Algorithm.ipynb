{
 "cells": [
  {
   "metadata": {},
   "cell_type": "markdown",
   "source": "# Gaus-Seidel Algorithm",
   "id": "b3e57de4c57796ac"
  },
  {
   "metadata": {},
   "cell_type": "markdown",
   "source": "### We consider the following SLE:",
   "id": "57ca536dc81d5739"
  },
  {
   "metadata": {},
   "cell_type": "markdown",
   "source": [
    "$$\\left\\{\\begin{split}\n",
    "7x−2y+z+3t=0 \\\\\n",
    "3x + 12y + t = 3\\\\\n",
    "−2x+4y+9z−t=1\\\\\n",
    "2 x + y + 6 t = − 3\\\\ \n",
    "\\end{split}\\right.$$\n",
    "Write a code to calculate the solution to this SLE using the GS algorithm. You need to use one of the stopping conditions to stop iterations."
   ],
   "id": "8b7a9c499125250a"
  },
  {
   "cell_type": "code",
   "execution_count": null,
   "id": "initial_id",
   "metadata": {
    "collapsed": true
   },
   "outputs": [],
   "source": [
    "# necessary libraries\n",
    "import numpy as np \n",
    "import sympy as sp\n",
    "\n",
    "counter0 = 1 #counter for iterations\n",
    "x_0, y_0, z_0, t_0 = 1, 1, 1, 1 #initial approximations\n",
    "x_1, y_1, z_1, t_1 = 0, 0, 0, 0 #secondary approximations\n",
    "\n",
    "# the SLE\n",
    "def f(x, y, z, t): \n",
    "    x = (2*y - z - 3*t)/7\n",
    "    y = (3 - 3*x - t)/12\n",
    "    z = (1 + 2*x - 4*y + t)/9\n",
    "    t = (-3 - 2*x -y)/6\n",
    "    return np.array([x, y, z, t])\n",
    "\n",
    "while np.sqrt((x_0-x_1)**2 + (y_0-y_1)**2 + (z_0-z_1)**2 + (t_0-t_1)**2) >= 10**-5: #some stopping condition\n",
    "    x_0, y_0, z_0, t_0 = x_1, y_1, z_1, t_1\n",
    "    x_1, y_1, z_1, t_1 = f(x_0, y_0, z_0, t_0) # GS method\n",
    "    counter0 += 1\n",
    "sol_vect = sp.Matrix([x_1, y_1, z_1, t_1])\n",
    "print(f'Number of iterations:{counter0}')\n",
    "sol_vect"
   ]
  }
 ],
 "metadata": {
  "kernelspec": {
   "display_name": "Python 3",
   "language": "python",
   "name": "python3"
  },
  "language_info": {
   "codemirror_mode": {
    "name": "ipython",
    "version": 2
   },
   "file_extension": ".py",
   "mimetype": "text/x-python",
   "name": "python",
   "nbconvert_exporter": "python",
   "pygments_lexer": "ipython2",
   "version": "2.7.6"
  }
 },
 "nbformat": 4,
 "nbformat_minor": 5
}
