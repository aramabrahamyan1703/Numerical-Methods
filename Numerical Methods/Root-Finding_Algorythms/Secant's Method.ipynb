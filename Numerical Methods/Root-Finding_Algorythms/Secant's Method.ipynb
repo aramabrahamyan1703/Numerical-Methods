{
 "cells": [
  {
   "metadata": {},
   "cell_type": "markdown",
   "source": "# Secant's Method",
   "id": "d9de30b84a26a511"
  },
  {
   "metadata": {},
   "cell_type": "markdown",
   "source": "### Importing Necessary Libraries.",
   "id": "3f57878fd4d6cca6"
  },
  {
   "cell_type": "code",
   "id": "ef6c5607a1124b99",
   "metadata": {
    "collapsed": true,
    "ExecuteTime": {
     "end_time": "2024-05-05T16:54:28.002928Z",
     "start_time": "2024-05-05T16:54:27.937480Z"
    }
   },
   "source": "import numpy as np",
   "outputs": [],
   "execution_count": 1
  },
  {
   "metadata": {},
   "cell_type": "markdown",
   "source": "### Defining a function for which we want to find root.",
   "id": "88747d7a56989c24"
  },
  {
   "metadata": {
    "ExecuteTime": {
     "end_time": "2024-05-05T16:55:10.219171Z",
     "start_time": "2024-05-05T16:55:10.215436Z"
    }
   },
   "cell_type": "code",
   "source": "f = lambda x: (np.log(1 + x ** 2) - 10 * x + np.e ** x)",
   "id": "f1aa5c211ab7247",
   "outputs": [],
   "execution_count": 2
  },
  {
   "metadata": {},
   "cell_type": "markdown",
   "source": "### Finding the root using Secant's Method",
   "id": "67a52b6e646f3049"
  },
  {
   "metadata": {
    "ExecuteTime": {
     "end_time": "2024-05-05T16:57:09.094426Z",
     "start_time": "2024-05-05T16:57:09.090917Z"
    }
   },
   "cell_type": "code",
   "source": [
    "def SM(x0, x1):\n",
    "    def Xn(x0, x1): # x0 and x1 are the endpoints of an interval where the root is located\n",
    "        return x1 - (f(x1)) / (f(x1) - f(x0)) * (x1 - x0) # Secant's Method formula\n",
    "\n",
    "    while abs(x1 - x0) > 0.0001: # Stopping condition\n",
    "        x0, x1 = x1, Xn(x0, x1)\n",
    "\n",
    "    return x1"
   ],
   "id": "initial_id",
   "outputs": [],
   "execution_count": 3
  }
 ],
 "metadata": {
  "kernelspec": {
   "display_name": "Python 3",
   "language": "python",
   "name": "python3"
  },
  "language_info": {
   "codemirror_mode": {
    "name": "ipython",
    "version": 2
   },
   "file_extension": ".py",
   "mimetype": "text/x-python",
   "name": "python",
   "nbconvert_exporter": "python",
   "pygments_lexer": "ipython2",
   "version": "2.7.6"
  }
 },
 "nbformat": 4,
 "nbformat_minor": 5
}
