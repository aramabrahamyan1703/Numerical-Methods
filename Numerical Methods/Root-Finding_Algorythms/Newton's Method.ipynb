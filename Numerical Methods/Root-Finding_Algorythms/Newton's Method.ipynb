{
 "cells": [
  {
   "metadata": {},
   "cell_type": "markdown",
   "source": "# Newton's Method",
   "id": "1a0f8943192cadb4"
  },
  {
   "cell_type": "code",
   "execution_count": null,
   "id": "initial_id",
   "metadata": {
    "collapsed": true
   },
   "outputs": [],
   "source": [
    "def NM(x):\n",
    "    while True: # Any other stopping condition may be used.\n",
    "        f = x - (25 / x)\n",
    "        df = (25 / (x ** 2)) + 1\n",
    "        y = x - (f / df)\n",
    "        if abs(x - y) < 10 ** (-5):\n",
    "            return y\n",
    "        x = y"
   ]
  }
 ],
 "metadata": {
  "kernelspec": {
   "display_name": "Python 3",
   "language": "python",
   "name": "python3"
  },
  "language_info": {
   "codemirror_mode": {
    "name": "ipython",
    "version": 2
   },
   "file_extension": ".py",
   "mimetype": "text/x-python",
   "name": "python",
   "nbconvert_exporter": "python",
   "pygments_lexer": "ipython2",
   "version": "2.7.6"
  }
 },
 "nbformat": 4,
 "nbformat_minor": 5
}
