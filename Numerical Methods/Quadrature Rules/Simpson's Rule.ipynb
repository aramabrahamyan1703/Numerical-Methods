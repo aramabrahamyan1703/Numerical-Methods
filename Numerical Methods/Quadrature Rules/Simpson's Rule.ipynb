{
 "cells": [
  {
   "metadata": {},
   "cell_type": "markdown",
   "source": "# Simpson's Rule",
   "id": "35b97e8d6f4aaabb"
  },
  {
   "cell_type": "code",
   "execution_count": null,
   "id": "initial_id",
   "metadata": {
    "collapsed": true
   },
   "outputs": [],
   "source": [
    "def SimpsonRule(f, a, b, n):\n",
    "    area = 0\n",
    "    h = (b-a)/n # length of each sub-interval\n",
    "    for i in range(n): # any stopping condition here\n",
    "        area += (f(a + i * h) + 4 * f((2 * a + 2 * i * h + h)/2) + f((a + (i + 1) * h))) #Simpson's rule formula\n",
    "    return area * h/6"
   ]
  }
 ],
 "metadata": {
  "kernelspec": {
   "display_name": "Python 3",
   "language": "python",
   "name": "python3"
  },
  "language_info": {
   "codemirror_mode": {
    "name": "ipython",
    "version": 2
   },
   "file_extension": ".py",
   "mimetype": "text/x-python",
   "name": "python",
   "nbconvert_exporter": "python",
   "pygments_lexer": "ipython2",
   "version": "2.7.6"
  }
 },
 "nbformat": 4,
 "nbformat_minor": 5
}
