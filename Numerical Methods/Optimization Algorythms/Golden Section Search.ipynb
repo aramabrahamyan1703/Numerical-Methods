{
 "cells": [
  {
   "metadata": {},
   "cell_type": "markdown",
   "source": "### Write a function $GSS(f,a,b,\\varepsilon)$, which will calculate the minimum of a Unimodal function $f$ on $[a,b]$ with the precision $\\varepsilon > 0$, using the Golden Section Search Method. Use that function to calculate the minimum point of the function in part a. with the precision $\\varepsilon = 10^{−3}$.\n",
   "id": "6401d0fe77b0ef8a"
  },
  {
   "cell_type": "code",
   "id": "initial_id",
   "metadata": {
    "collapsed": true,
    "ExecuteTime": {
     "end_time": "2024-04-25T14:30:07.286594Z",
     "start_time": "2024-04-25T14:30:07.283816Z"
    }
   },
   "source": [
    "from math import *\n",
    "gamma = (sqrt(5)-1)/2\n",
    "\n",
    "def f(x): # function we want to potimize\n",
    "    return x**2 - 6*x\n",
    "\n",
    "def GSS(f, a, b, e): # Golden Section Search Algorythm\n",
    "    n = 1\n",
    "    c = b - gamma*(b-a)\n",
    "    d = a + gamma*(b-a)\n",
    "    f1 = f(c)\n",
    "    f2 = f(d)\n",
    "    while gamma**n * (b-a)/2 > e: # some stopping condition\n",
    "        if f1 < f2:\n",
    "            b = d\n",
    "            d = c\n",
    "            c = b - gamma*(b-a)\n",
    "            f2 = f1\n",
    "            f1 = f(c)\n",
    "        else:\n",
    "            a = c\n",
    "            c = d\n",
    "            d = a + gamma*(b-a)\n",
    "            f1 = f2\n",
    "            f2 = f(d)\n",
    "        n += 1\n",
    "    return (a+b)/2\n",
    "\n",
    "print(GSS(f, -3, 5, 10**-3))"
   ],
   "outputs": [
    {
     "name": "stdout",
     "output_type": "stream",
     "text": [
      "3.000000003804467\n"
     ]
    }
   ],
   "execution_count": 128
  }
 ],
 "metadata": {
  "kernelspec": {
   "display_name": "Python 3",
   "language": "python",
   "name": "python3"
  },
  "language_info": {
   "codemirror_mode": {
    "name": "ipython",
    "version": 2
   },
   "file_extension": ".py",
   "mimetype": "text/x-python",
   "name": "python",
   "nbconvert_exporter": "python",
   "pygments_lexer": "ipython2",
   "version": "2.7.6"
  }
 },
 "nbformat": 4,
 "nbformat_minor": 5
}
